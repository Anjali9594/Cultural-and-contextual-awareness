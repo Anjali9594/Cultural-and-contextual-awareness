{
 "cells": [
  {
   "cell_type": "code",
   "execution_count": 3,
   "id": "8f260e3a-8883-4ebe-8fa6-d74f9adb78ab",
   "metadata": {},
   "outputs": [
    {
     "ename": "SyntaxError",
     "evalue": "invalid syntax. Maybe you meant '==' or ':=' instead of '='? (1471124675.py, line 156)",
     "output_type": "error",
     "traceback": [
      "\u001b[1;36m  Cell \u001b[1;32mIn[3], line 156\u001b[1;36m\u001b[0m\n\u001b[1;33m    steps_per_epoch=1000, epochs=20, validation_data=test_generator, validation_steps=500\u001b[0m\n\u001b[1;37m    ^\u001b[0m\n\u001b[1;31mSyntaxError\u001b[0m\u001b[1;31m:\u001b[0m invalid syntax. Maybe you meant '==' or ':=' instead of '='?\n"
     ]
    }
   ],
   "source": [
    "# Import necessary libraries\n",
    "import matplotlib.pyplot as plt\n",
    "import numpy as np\n",
    "import pandas as pd\n",
    "from glob import glob\n",
    "import random\n",
    "import cv2\n",
    "from keras.models import Model\n",
    "from keras.layers import Input, Dense, Dropout, Flatten, Conv2D, MaxPooling2D\n",
    "from keras.optimizers import Adam\n",
    "from tensorflow.keras.preprocessing.image import ImageDataGenerator\n",
    "\n",
    "# Define the cultural context layer\n",
    "def cultural_context_layer(input_shape):\n",
    "    def cultural_context(x):\n",
    "        # Add your cultural context adjustment code here\n",
    "        # For example, you can use an embedding layer to represent the cultural background\n",
    "        # and multiply it with the output of the previous layer\n",
    "        return x\n",
    "    return Input(shape=input_shape), cultural_context\n",
    "\n",
    "def create_model(input_shape, num_classes):\n",
    "    # Define the input layer\n",
    "    inputs = Input(shape=input_shape)\n",
    "    \n",
    "    # Add your CNN architecture layers here\n",
    "    # Example:\n",
    "    x = Conv2D(32, (3, 3), activation='relu')(inputs)\n",
    "    x = MaxPooling2D(pool_size=(2, 2))(x)\n",
    "    x = Flatten()(x)\n",
    "    x = Dense(128, activation='relu')(x)\n",
    "    outputs = Dense(num_classes, activation='softmax')(x)  # Output layer for classification\n",
    "    \n",
    "    # Create the model\n",
    "    model = Model(inputs=inputs, outputs=outputs)\n",
    "    \n",
    "    return model\n",
    "\n",
    "\n",
    "# Define the CNN architecture\n",
    "#def create_model(input_shape, num_classes):\n",
    "    # Add your CNN architecture code here\n",
    "    # For example, you can use a VGG16 or ResNet50 architecture\n",
    "    #return Model(inputs=inputs, outputs=outputs)\n",
    "\n",
    "# Load the dataset\n",
    "train_images_paths = glob(\"C:/Users/Anjali/Desktop/Emotion_Recognition/archive (1)/train/**/**\")\n",
    "\n",
    "# Display some random images\n",
    "for i in range(9):\n",
    "    image_path = random.choice(train_images_paths)\n",
    "    image = cv2.imread(image_path)\n",
    "    plt.figure(figsize=(12,12))\n",
    "    plt.subplot(331+i)\n",
    "    plt.imshow(image)\n",
    "    plt.axis('off')\n",
    "\n",
    "# Preprocess the dataset\n",
    "# Define your preprocessing steps here\n",
    "def preprocess_image(image):\n",
    "    # Add your preprocessing steps here\n",
    "    # For example, resizing, normalization, etc.\n",
    "    return cv2.resize(image, (64, 64))  # Example: resizing images to (64, 64)\n",
    "\n",
    "train_images = [preprocess_image(cv2.imread(image_path)) for image_path in train_images_paths]\n",
    "\n",
    "# Convert the list to numpy array\n",
    "train_images = np.array(train_images)\n",
    "\n",
    "# Define the input shape and number of classes\n",
    "input_shape = (64, 64, 3)\n",
    "num_classes = 7\n",
    "\n",
    "# Define the cultural context input\n",
    "cultural_context_input, cultural_context = cultural_context_layer(input_shape)\n",
    "\n",
    "# Create the CNN model\n",
    "inputs = Input(shape=input_shape)\n",
    "model = create_model(input_shape, num_classes)\n",
    "\n",
    "# Add the cultural context layer to the model\n",
    "outputs = model(cultural_context_input)\n",
    "\n",
    "outputs = cultural_context(outputs)\n",
    "\n",
    "# Compile the model\n",
    "#optimizer = Adam(lr=0.0001)\n",
    "#model.compile(loss='categorical_crossentropy', optimizer=optimizer, metrics=['accuracy'])\n",
    "# Compile the model\n",
    "optimizer = Adam(learning_rate=0.0001)  # Use learning_rate instead of lr\n",
    "model.compile(loss='categorical_crossentropy', optimizer=optimizer, metrics=['accuracy'])\n",
    "\n",
    "# Define the data generators\n",
    "#train_datagen = ImageDataGenerator(\n",
    " #   rescale=1./255,\n",
    "  #  shear_range=0.2,\n",
    "   # zoom_range=0.2,\n",
    "    #horizontal_flip=True)\n",
    "img_size = 48\n",
    "batch_size = 64\n",
    "datagen_train = ImageDataGenerator()\n",
    "train_generator = datagen_train.flow_from_directory(\"train/\",\n",
    "                                                   target_size = (img_size,img_size),\n",
    "                                                   color_mode = \"grayscale\",\n",
    "                                                   batch_size = batch_size,\n",
    "                                                   class_mode = \"categorical\",\n",
    "                                                   shuffle = True)\n",
    "\n",
    "datagen_validation = ImageDataGenerator()\n",
    "validation_generator = datagen_train.flow_from_directory(\"test/\",\n",
    "                                                   target_size = (img_size,img_size),\n",
    "                                                   color_mode = \"grayscale\",\n",
    "                                                   batch_size = batch_size,\n",
    "                                                   class_mode = \"categorical\",\n",
    "                                                   shuffle = True)\n",
    "# Assuming you have a test dataset and its corresponding labels\n",
    "#test_images = np.array(['angry','happy','sad','neutral','fear','disgust','suprise'])  # Provide your test images here\n",
    "#test_labels = [,]  # Provide your test labels here\n",
    "#test_labels = np.array([0, 1, 2, 3, 4, 5, 6])  # Numerical labels corresponding to the classes\n",
    "# Assuming you have defined test_images as an array of image paths\n",
    "test_images = [preprocess_image(cv2.imread(image_path)) for image_path in test_images]\n",
    "\n",
    "def preprocess_image(image):\n",
    "    # Add your preprocessing steps here\n",
    "    # For example, resizing, normalization, etc.\n",
    "    if image is not None and not image.size == 0:\n",
    "        return cv2.resize(image, (64, 64))\n",
    "    else:\n",
    "        return None\n",
    "\n",
    "# Load and preprocess the images\n",
    "test_images = []\n",
    "test_images_paths = glob(\"C:/Users/Anjali/Desktop/Emotion_Recognition/archive (1)/test/**/**\")\n",
    "\n",
    "for image_path in test_images_paths:\n",
    "    image = cv2.imread(image_path)\n",
    "    processed_image = preprocess_image(image)\n",
    "    if processed_image is not None:\n",
    "        test_images.append(processed_image)\n",
    "\n",
    "\n",
    "test_images = np.array(test_images)  # Provide your test images here\n",
    "test_labels = np.array([0, 1, 2, 3, 4, 5, 6])  # Numerical labels corresponding to the classes\n",
    "\n",
    "# Assuming you have defined test_images and test_labels\n",
    "print(\"Number of test images:\", len(test_imag))\n",
    "print(\"Number of test labels:\", len(test_labels))\n",
    "\n",
    "#test_datagen = ImageDataGenerator(rescale=1./255)\n",
    "\n",
    "# Assuming you have defined test_images and test_labels\n",
    "#test_generator = test_datagen.flow(test_images, test_labels, batch_size=32)\n",
    "\n",
    "# Train the model\n",
    "#model.fit_generator(train_datagen.flow(train_images, train_df['label'], batch_size=32)\n",
    "steps_per_epoch=1000, epochs=20, validation_data=test_generator, validation_steps=500\n",
    "\n",
    "# Save the model\n",
    "model.save('emotion_recognition_model.h5')\n"
   ]
  },
  {
   "cell_type": "code",
   "execution_count": 4,
   "id": "72c3771c-ddc8-49c9-b969-a33368538414",
   "metadata": {},
   "outputs": [
    {
     "name": "stdout",
     "output_type": "stream",
     "text": [
      "Tensorflow version: 2.16.1\n"
     ]
    }
   ],
   "source": [
    "import matplotlib.pyplot as plt\n",
    "from glob import glob\n",
    "import cv2\n",
    "import random\n",
    "import os\n",
    "%matplotlib inline\n",
    "\n",
    "from tensorflow.keras.preprocessing.image import ImageDataGenerator\n",
    "from tensorflow.keras.layers import Dense, Input, Dropout, Flatten, Conv2D\n",
    "from tensorflow.keras.layers import BatchNormalization, Activation, MaxPooling2D\n",
    "from tensorflow.keras.models import Model, Sequential\n",
    "from tensorflow.keras.optimizers import Adam\n",
    "from tensorflow.keras.callbacks import ModelCheckpoint, ReduceLROnPlateau\n",
    "from tensorflow.keras.utils import plot_model\n",
    "\n",
    "from IPython.display import SVG, Image\n",
    "import tensorflow as tf\n",
    "print(\"Tensorflow version:\", tf.__version__)"
   ]
  },
  {
   "cell_type": "code",
   "execution_count": 4,
   "id": "0084d8bb-e955-4327-bd26-5940d40f0486",
   "metadata": {},
   "outputs": [
    {
     "data": {
      "image/png": "[encoded data removed]",
      "text/plain": [
       "<Figure size 1200x1200 with 1 Axes>"
      ]
     },
     "metadata": {},
     "output_type": "display_data"
    },
    {
     "data": {
      "image/png": "[encoded data removed]",
      "text/plain": [
       "<Figure size 1200x1200 with 1 Axes>"
      ]
     },
     "metadata": {},
     "output_type": "display_data"
    },
    {
     "data": {
      "image/png": "[encoded data removed]",
      "text/plain": [
       "<Figure size 1200x1200 with 1 Axes>"
      ]
     },
     "metadata": {},
     "output_type": "display_data"
    },
    {
     "data": {
      "image/png": "[encoded data removed]",
      "text/plain": [
       "<Figure size 1200x1200 with 1 Axes>"
      ]
     },
     "metadata": {},
     "output_type": "display_data"
    },
    {
     "data": {
      "image/png": "[encoded data removed]",
      "text/plain": [
       "<Figure size 1200x1200 with 1 Axes>"
      ]
     },
     "metadata": {},
     "output_type": "display_data"
    },
    {
     "data": {
      "image/png": "[encoded data removed]",
      "text/plain": [
       "<Figure size 1200x1200 with 1 Axes>"
      ]
     },
     "metadata": {},
     "output_type": "display_data"
    },
    {
     "data": {
      "image/png": "[encoded data removed]",
      "text/plain": [
       "<Figure size 1200x1200 with 1 Axes>"
      ]
     },
     "metadata": {},
     "output_type": "display_data"
    },
    {
     "data": {
      "image/png": "[encoded data removed]",
      "text/plain": [
       "<Figure size 1200x1200 with 1 Axes>"
      ]
     },
     "metadata": {},
     "output_type": "display_data"
    },
    {
     "data": {
      "image/png": "[encoded data removed]",
      "text/plain": [
       "<Figure size 1200x1200 with 1 Axes>"
      ]
     },
     "metadata": {},
     "output_type": "display_data"
    }
   ],
   "source": [
    "train_images_paths = glob(\"C:/Users/Anjali/Desktop/Emotion_Recognition/archive (1)/train/**/**\")\n",
    "for i in range(9):\n",
    "    image = random.choice(train_images_paths)\n",
    "    plt.figure(figsize=(12,12))\n",
    "    plt.subplot(331+i)\n",
    "    plt.imshow(cv2.imread(image));plt.axis('off')"
   ]
  },
  {
   "cell_type": "code",
   "execution_count": null,
   "id": "f130888f-6439-4443-8e6d-2c1e5ef7972a",
   "metadata": {},
   "outputs": [],
   "source": []
  },
  {
   "cell_type": "code",
   "execution_count": null,
   "id": "64e704d2-1aa7-4bc7-87eb-c00666b9f227",
   "metadata": {},
   "outputs": [],
   "source": []
  },
  {
   "cell_type": "code",
   "execution_count": 41,
   "id": "1dce4e84-ddd6-429b-a454-54b66a791a82",
   "metadata": {},
   "outputs": [
    {
     "name": "stdout",
     "output_type": "stream",
     "text": [
      "Found 28709 images belonging to 7 classes.\n",
      "Found 7178 images belonging to 7 classes.\n"
     ]
    }
   ],
   "source": [
    "img_size = 48\n",
    "batch_size = 64\n",
    "datagen_train = ImageDataGenerator()\n",
    "train_generator = datagen_train.flow_from_directory(\"C:/Users/Anjali/Desktop/Emotion_Recognition/archive (1)/train/\",\n",
    "                                                   target_size = (img_size,img_size),\n",
    "                                                   color_mode = \"grayscale\",\n",
    "                                                   batch_size = batch_size,\n",
    "                                                   class_mode = \"categorical\",\n",
    "                                                   shuffle = True)\n",
    "\n",
    "datagen_validation = ImageDataGenerator()\n",
    "validation_generator = datagen_train.flow_from_directory(\"C:/Users/Anjali/Desktop/Emotion_Recognition/archive (1)/test/\",\n",
    "                                                   target_size = (img_size,img_size),\n",
    "                                                   color_mode = \"grayscale\",\n",
    "                                                   batch_size = batch_size,\n",
    "                                                   class_mode = \"categorical\",\n",
    "                                                   shuffle = True)"
   ]
  },
  {
   "cell_type": "code",
   "execution_count": 43,
   "id": "69ce9c42-18b3-4e4e-87e6-085e6eab0434",
   "metadata": {},
   "outputs": [],
   "source": [
    "def Convolution(input_tensor, filters, kernel_size):\n",
    "    x = Conv2D(filters = filters, kernel_size = kernel_size, padding = \"same\")(input_tensor)\n",
    "    x = BatchNormalization()(x)\n",
    "    x = Activation('relu')(x)\n",
    "    x = MaxPooling2D(pool_size = (2,2))(x)\n",
    "    x = Dropout(0.25)(x)\n",
    "    \n",
    "    return x"
   ]
  },
  {
   "cell_type": "code",
   "execution_count": 44,
   "id": "32906be3-7f3c-4a15-b893-c395a5c4db41",
   "metadata": {},
   "outputs": [],
   "source": [
    "def Dense_f(input_tensor, nodes):\n",
    "    x = Dense(nodes)(input_tensor)\n",
    "    x = BatchNormalization()(x)\n",
    "    x = Activation('relu')(x)\n",
    "    x = Dropout(0.25)(x)\n",
    "    \n",
    "    return x"
   ]
  },
  {
   "cell_type": "code",
   "execution_count": 45,
   "id": "d705ae11-f83c-42d4-9583-578c3703256d",
   "metadata": {},
   "outputs": [],
   "source": [
    "def model_fer(input_shape):\n",
    "    inputs = Input(input_shape)\n",
    "    conv_1 = Convolution(inputs,32,(3,3))\n",
    "    conv_2 = Convolution(conv_1,64,(5,5))\n",
    "    conv_3 = Convolution(conv_2,128,(3,3))\n",
    "\n",
    "    flatten = Flatten()(conv_3)\n",
    "    \n",
    "    dense_1 = Dense_f(flatten,256)\n",
    "\n",
    "    output  = Dense(7, activation=\"softmax\")(dense_1)\n",
    "    model  =  Model(inputs=[inputs],outputs = [output])\n",
    "    \n",
    "    model.compile(loss=['categorical_crossentropy'] , optimizer = 'adam' , metrics =[\"accuracy\"])\n",
    "\n",
    "    return model"
   ]
  },
  {
   "cell_type": "code",
   "execution_count": 46,
   "id": "f3bd97c5-cf46-480a-8679-52d3dcb683dd",
   "metadata": {},
   "outputs": [
    {
     "data": {
      "text/html": [
       "<pre style=\"white-space:pre;overflow-x:auto;line-height:normal;font-family:Menlo,'DejaVu Sans Mono',consolas,'Courier New',monospace\"><span style=\"font-weight: bold\">Model: \"functional_5\"</span>\n",
       "</pre>\n"
      ],
      "text/plain": [
       "\u001b[1mModel: \"functional_5\"\u001b[0m\n"
      ]
     },
     "metadata": {},
     "output_type": "display_data"
    },
    {
     "data": {
      "text/html": [
       "<pre style=\"white-space:pre;overflow-x:auto;line-height:normal;font-family:Menlo,'DejaVu Sans Mono',consolas,'Courier New',monospace\">┏━━━━━━━━━━━━━━━━━━━━━━━━━━━━━━━━━━━━━━┳━━━━━━━━━━━━━━━━━━━━━━━━━━━━━┳━━━━━━━━━━━━━━━━━┓\n",
       "┃<span style=\"font-weight: bold\"> Layer (type)                         </span>┃<span style=\"font-weight: bold\"> Output Shape                </span>┃<span style=\"font-weight: bold\">         Param # </span>┃\n",
       "┡━━━━━━━━━━━━━━━━━━━━━━━━━━━━━━━━━━━━━━╇━━━━━━━━━━━━━━━━━━━━━━━━━━━━━╇━━━━━━━━━━━━━━━━━┩\n",
       "│ input_layer_6 (<span style=\"color: #0087ff; text-decoration-color: #0087ff\">InputLayer</span>)           │ (<span style=\"color: #00d7ff; text-decoration-color: #00d7ff\">None</span>, <span style=\"color: #00af00; text-decoration-color: #00af00\">48</span>, <span style=\"color: #00af00; text-decoration-color: #00af00\">48</span>, <span style=\"color: #00af00; text-decoration-color: #00af00\">1</span>)           │               <span style=\"color: #00af00; text-decoration-color: #00af00\">0</span> │\n",
       "├──────────────────────────────────────┼─────────────────────────────┼─────────────────┤\n",
       "│ conv2d_2 (<span style=\"color: #0087ff; text-decoration-color: #0087ff\">Conv2D</span>)                    │ (<span style=\"color: #00d7ff; text-decoration-color: #00d7ff\">None</span>, <span style=\"color: #00af00; text-decoration-color: #00af00\">48</span>, <span style=\"color: #00af00; text-decoration-color: #00af00\">48</span>, <span style=\"color: #00af00; text-decoration-color: #00af00\">32</span>)          │             <span style=\"color: #00af00; text-decoration-color: #00af00\">320</span> │\n",
       "├──────────────────────────────────────┼─────────────────────────────┼─────────────────┤\n",
       "│ batch_normalization                  │ (<span style=\"color: #00d7ff; text-decoration-color: #00d7ff\">None</span>, <span style=\"color: #00af00; text-decoration-color: #00af00\">48</span>, <span style=\"color: #00af00; text-decoration-color: #00af00\">48</span>, <span style=\"color: #00af00; text-decoration-color: #00af00\">32</span>)          │             <span style=\"color: #00af00; text-decoration-color: #00af00\">128</span> │\n",
       "│ (<span style=\"color: #0087ff; text-decoration-color: #0087ff\">BatchNormalization</span>)                 │                             │                 │\n",
       "├──────────────────────────────────────┼─────────────────────────────┼─────────────────┤\n",
       "│ activation (<span style=\"color: #0087ff; text-decoration-color: #0087ff\">Activation</span>)              │ (<span style=\"color: #00d7ff; text-decoration-color: #00d7ff\">None</span>, <span style=\"color: #00af00; text-decoration-color: #00af00\">48</span>, <span style=\"color: #00af00; text-decoration-color: #00af00\">48</span>, <span style=\"color: #00af00; text-decoration-color: #00af00\">32</span>)          │               <span style=\"color: #00af00; text-decoration-color: #00af00\">0</span> │\n",
       "├──────────────────────────────────────┼─────────────────────────────┼─────────────────┤\n",
       "│ max_pooling2d_2 (<span style=\"color: #0087ff; text-decoration-color: #0087ff\">MaxPooling2D</span>)       │ (<span style=\"color: #00d7ff; text-decoration-color: #00d7ff\">None</span>, <span style=\"color: #00af00; text-decoration-color: #00af00\">24</span>, <span style=\"color: #00af00; text-decoration-color: #00af00\">24</span>, <span style=\"color: #00af00; text-decoration-color: #00af00\">32</span>)          │               <span style=\"color: #00af00; text-decoration-color: #00af00\">0</span> │\n",
       "├──────────────────────────────────────┼─────────────────────────────┼─────────────────┤\n",
       "│ dropout (<span style=\"color: #0087ff; text-decoration-color: #0087ff\">Dropout</span>)                    │ (<span style=\"color: #00d7ff; text-decoration-color: #00d7ff\">None</span>, <span style=\"color: #00af00; text-decoration-color: #00af00\">24</span>, <span style=\"color: #00af00; text-decoration-color: #00af00\">24</span>, <span style=\"color: #00af00; text-decoration-color: #00af00\">32</span>)          │               <span style=\"color: #00af00; text-decoration-color: #00af00\">0</span> │\n",
       "├──────────────────────────────────────┼─────────────────────────────┼─────────────────┤\n",
       "│ conv2d_3 (<span style=\"color: #0087ff; text-decoration-color: #0087ff\">Conv2D</span>)                    │ (<span style=\"color: #00d7ff; text-decoration-color: #00d7ff\">None</span>, <span style=\"color: #00af00; text-decoration-color: #00af00\">24</span>, <span style=\"color: #00af00; text-decoration-color: #00af00\">24</span>, <span style=\"color: #00af00; text-decoration-color: #00af00\">64</span>)          │          <span style=\"color: #00af00; text-decoration-color: #00af00\">51,264</span> │\n",
       "├──────────────────────────────────────┼─────────────────────────────┼─────────────────┤\n",
       "│ batch_normalization_1                │ (<span style=\"color: #00d7ff; text-decoration-color: #00d7ff\">None</span>, <span style=\"color: #00af00; text-decoration-color: #00af00\">24</span>, <span style=\"color: #00af00; text-decoration-color: #00af00\">24</span>, <span style=\"color: #00af00; text-decoration-color: #00af00\">64</span>)          │             <span style=\"color: #00af00; text-decoration-color: #00af00\">256</span> │\n",
       "│ (<span style=\"color: #0087ff; text-decoration-color: #0087ff\">BatchNormalization</span>)                 │                             │                 │\n",
       "├──────────────────────────────────────┼─────────────────────────────┼─────────────────┤\n",
       "│ activation_1 (<span style=\"color: #0087ff; text-decoration-color: #0087ff\">Activation</span>)            │ (<span style=\"color: #00d7ff; text-decoration-color: #00d7ff\">None</span>, <span style=\"color: #00af00; text-decoration-color: #00af00\">24</span>, <span style=\"color: #00af00; text-decoration-color: #00af00\">24</span>, <span style=\"color: #00af00; text-decoration-color: #00af00\">64</span>)          │               <span style=\"color: #00af00; text-decoration-color: #00af00\">0</span> │\n",
       "├──────────────────────────────────────┼─────────────────────────────┼─────────────────┤\n",
       "│ max_pooling2d_3 (<span style=\"color: #0087ff; text-decoration-color: #0087ff\">MaxPooling2D</span>)       │ (<span style=\"color: #00d7ff; text-decoration-color: #00d7ff\">None</span>, <span style=\"color: #00af00; text-decoration-color: #00af00\">12</span>, <span style=\"color: #00af00; text-decoration-color: #00af00\">12</span>, <span style=\"color: #00af00; text-decoration-color: #00af00\">64</span>)          │               <span style=\"color: #00af00; text-decoration-color: #00af00\">0</span> │\n",
       "├──────────────────────────────────────┼─────────────────────────────┼─────────────────┤\n",
       "│ dropout_1 (<span style=\"color: #0087ff; text-decoration-color: #0087ff\">Dropout</span>)                  │ (<span style=\"color: #00d7ff; text-decoration-color: #00d7ff\">None</span>, <span style=\"color: #00af00; text-decoration-color: #00af00\">12</span>, <span style=\"color: #00af00; text-decoration-color: #00af00\">12</span>, <span style=\"color: #00af00; text-decoration-color: #00af00\">64</span>)          │               <span style=\"color: #00af00; text-decoration-color: #00af00\">0</span> │\n",
       "├──────────────────────────────────────┼─────────────────────────────┼─────────────────┤\n",
       "│ conv2d_4 (<span style=\"color: #0087ff; text-decoration-color: #0087ff\">Conv2D</span>)                    │ (<span style=\"color: #00d7ff; text-decoration-color: #00d7ff\">None</span>, <span style=\"color: #00af00; text-decoration-color: #00af00\">12</span>, <span style=\"color: #00af00; text-decoration-color: #00af00\">12</span>, <span style=\"color: #00af00; text-decoration-color: #00af00\">128</span>)         │          <span style=\"color: #00af00; text-decoration-color: #00af00\">73,856</span> │\n",
       "├──────────────────────────────────────┼─────────────────────────────┼─────────────────┤\n",
       "│ batch_normalization_2                │ (<span style=\"color: #00d7ff; text-decoration-color: #00d7ff\">None</span>, <span style=\"color: #00af00; text-decoration-color: #00af00\">12</span>, <span style=\"color: #00af00; text-decoration-color: #00af00\">12</span>, <span style=\"color: #00af00; text-decoration-color: #00af00\">128</span>)         │             <span style=\"color: #00af00; text-decoration-color: #00af00\">512</span> │\n",
       "│ (<span style=\"color: #0087ff; text-decoration-color: #0087ff\">BatchNormalization</span>)                 │                             │                 │\n",
       "├──────────────────────────────────────┼─────────────────────────────┼─────────────────┤\n",
       "│ activation_2 (<span style=\"color: #0087ff; text-decoration-color: #0087ff\">Activation</span>)            │ (<span style=\"color: #00d7ff; text-decoration-color: #00d7ff\">None</span>, <span style=\"color: #00af00; text-decoration-color: #00af00\">12</span>, <span style=\"color: #00af00; text-decoration-color: #00af00\">12</span>, <span style=\"color: #00af00; text-decoration-color: #00af00\">128</span>)         │               <span style=\"color: #00af00; text-decoration-color: #00af00\">0</span> │\n",
       "├──────────────────────────────────────┼─────────────────────────────┼─────────────────┤\n",
       "│ max_pooling2d_4 (<span style=\"color: #0087ff; text-decoration-color: #0087ff\">MaxPooling2D</span>)       │ (<span style=\"color: #00d7ff; text-decoration-color: #00d7ff\">None</span>, <span style=\"color: #00af00; text-decoration-color: #00af00\">6</span>, <span style=\"color: #00af00; text-decoration-color: #00af00\">6</span>, <span style=\"color: #00af00; text-decoration-color: #00af00\">128</span>)           │               <span style=\"color: #00af00; text-decoration-color: #00af00\">0</span> │\n",
       "├──────────────────────────────────────┼─────────────────────────────┼─────────────────┤\n",
       "│ dropout_2 (<span style=\"color: #0087ff; text-decoration-color: #0087ff\">Dropout</span>)                  │ (<span style=\"color: #00d7ff; text-decoration-color: #00d7ff\">None</span>, <span style=\"color: #00af00; text-decoration-color: #00af00\">6</span>, <span style=\"color: #00af00; text-decoration-color: #00af00\">6</span>, <span style=\"color: #00af00; text-decoration-color: #00af00\">128</span>)           │               <span style=\"color: #00af00; text-decoration-color: #00af00\">0</span> │\n",
       "├──────────────────────────────────────┼─────────────────────────────┼─────────────────┤\n",
       "│ flatten_2 (<span style=\"color: #0087ff; text-decoration-color: #0087ff\">Flatten</span>)                  │ (<span style=\"color: #00d7ff; text-decoration-color: #00d7ff\">None</span>, <span style=\"color: #00af00; text-decoration-color: #00af00\">4608</span>)                │               <span style=\"color: #00af00; text-decoration-color: #00af00\">0</span> │\n",
       "├──────────────────────────────────────┼─────────────────────────────┼─────────────────┤\n",
       "│ dense_4 (<span style=\"color: #0087ff; text-decoration-color: #0087ff\">Dense</span>)                      │ (<span style=\"color: #00d7ff; text-decoration-color: #00d7ff\">None</span>, <span style=\"color: #00af00; text-decoration-color: #00af00\">256</span>)                 │       <span style=\"color: #00af00; text-decoration-color: #00af00\">1,179,904</span> │\n",
       "├──────────────────────────────────────┼─────────────────────────────┼─────────────────┤\n",
       "│ batch_normalization_3                │ (<span style=\"color: #00d7ff; text-decoration-color: #00d7ff\">None</span>, <span style=\"color: #00af00; text-decoration-color: #00af00\">256</span>)                 │           <span style=\"color: #00af00; text-decoration-color: #00af00\">1,024</span> │\n",
       "│ (<span style=\"color: #0087ff; text-decoration-color: #0087ff\">BatchNormalization</span>)                 │                             │                 │\n",
       "├──────────────────────────────────────┼─────────────────────────────┼─────────────────┤\n",
       "│ activation_3 (<span style=\"color: #0087ff; text-decoration-color: #0087ff\">Activation</span>)            │ (<span style=\"color: #00d7ff; text-decoration-color: #00d7ff\">None</span>, <span style=\"color: #00af00; text-decoration-color: #00af00\">256</span>)                 │               <span style=\"color: #00af00; text-decoration-color: #00af00\">0</span> │\n",
       "├──────────────────────────────────────┼─────────────────────────────┼─────────────────┤\n",
       "│ dropout_3 (<span style=\"color: #0087ff; text-decoration-color: #0087ff\">Dropout</span>)                  │ (<span style=\"color: #00d7ff; text-decoration-color: #00d7ff\">None</span>, <span style=\"color: #00af00; text-decoration-color: #00af00\">256</span>)                 │               <span style=\"color: #00af00; text-decoration-color: #00af00\">0</span> │\n",
       "├──────────────────────────────────────┼─────────────────────────────┼─────────────────┤\n",
       "│ dense_5 (<span style=\"color: #0087ff; text-decoration-color: #0087ff\">Dense</span>)                      │ (<span style=\"color: #00d7ff; text-decoration-color: #00d7ff\">None</span>, <span style=\"color: #00af00; text-decoration-color: #00af00\">7</span>)                   │           <span style=\"color: #00af00; text-decoration-color: #00af00\">1,799</span> │\n",
       "└──────────────────────────────────────┴─────────────────────────────┴─────────────────┘\n",
       "</pre>\n"
      ],
      "text/plain": [
       "┏━━━━━━━━━━━━━━━━━━━━━━━━━━━━━━━━━━━━━━┳━━━━━━━━━━━━━━━━━━━━━━━━━━━━━┳━━━━━━━━━━━━━━━━━┓\n",
       "┃\u001b[1m \u001b[0m\u001b[1mLayer (type)                        \u001b[0m\u001b[1m \u001b[0m┃\u001b[1m \u001b[0m\u001b[1mOutput Shape               \u001b[0m\u001b[1m \u001b[0m┃\u001b[1m \u001b[0m\u001b[1m        Param #\u001b[0m\u001b[1m \u001b[0m┃\n",
       "┡━━━━━━━━━━━━━━━━━━━━━━━━━━━━━━━━━━━━━━╇━━━━━━━━━━━━━━━━━━━━━━━━━━━━━╇━━━━━━━━━━━━━━━━━┩\n",
       "│ input_layer_6 (\u001b[38;5;33mInputLayer\u001b[0m)           │ (\u001b[38;5;45mNone\u001b[0m, \u001b[38;5;34m48\u001b[0m, \u001b[38;5;34m48\u001b[0m, \u001b[38;5;34m1\u001b[0m)           │               \u001b[38;5;34m0\u001b[0m │\n",
       "├──────────────────────────────────────┼─────────────────────────────┼─────────────────┤\n",
       "│ conv2d_2 (\u001b[38;5;33mConv2D\u001b[0m)                    │ (\u001b[38;5;45mNone\u001b[0m, \u001b[38;5;34m48\u001b[0m, \u001b[38;5;34m48\u001b[0m, \u001b[38;5;34m32\u001b[0m)          │             \u001b[38;5;34m320\u001b[0m │\n",
       "├──────────────────────────────────────┼─────────────────────────────┼─────────────────┤\n",
       "│ batch_normalization                  │ (\u001b[38;5;45mNone\u001b[0m, \u001b[38;5;34m48\u001b[0m, \u001b[38;5;34m48\u001b[0m, \u001b[38;5;34m32\u001b[0m)          │             \u001b[38;5;34m128\u001b[0m │\n",
       "│ (\u001b[38;5;33mBatchNormalization\u001b[0m)                 │                             │                 │\n",
       "├──────────────────────────────────────┼─────────────────────────────┼─────────────────┤\n",
       "│ activation (\u001b[38;5;33mActivation\u001b[0m)              │ (\u001b[38;5;45mNone\u001b[0m, \u001b[38;5;34m48\u001b[0m, \u001b[38;5;34m48\u001b[0m, \u001b[38;5;34m32\u001b[0m)          │               \u001b[38;5;34m0\u001b[0m │\n",
       "├──────────────────────────────────────┼─────────────────────────────┼─────────────────┤\n",
       "│ max_pooling2d_2 (\u001b[38;5;33mMaxPooling2D\u001b[0m)       │ (\u001b[38;5;45mNone\u001b[0m, \u001b[38;5;34m24\u001b[0m, \u001b[38;5;34m24\u001b[0m, \u001b[38;5;34m32\u001b[0m)          │               \u001b[38;5;34m0\u001b[0m │\n",
       "├──────────────────────────────────────┼─────────────────────────────┼─────────────────┤\n",
       "│ dropout (\u001b[38;5;33mDropout\u001b[0m)                    │ (\u001b[38;5;45mNone\u001b[0m, \u001b[38;5;34m24\u001b[0m, \u001b[38;5;34m24\u001b[0m, \u001b[38;5;34m32\u001b[0m)          │               \u001b[38;5;34m0\u001b[0m │\n",
       "├──────────────────────────────────────┼─────────────────────────────┼─────────────────┤\n",
       "│ conv2d_3 (\u001b[38;5;33mConv2D\u001b[0m)                    │ (\u001b[38;5;45mNone\u001b[0m, \u001b[38;5;34m24\u001b[0m, \u001b[38;5;34m24\u001b[0m, \u001b[38;5;34m64\u001b[0m)          │          \u001b[38;5;34m51,264\u001b[0m │\n",
       "├──────────────────────────────────────┼─────────────────────────────┼─────────────────┤\n",
       "│ batch_normalization_1                │ (\u001b[38;5;45mNone\u001b[0m, \u001b[38;5;34m24\u001b[0m, \u001b[38;5;34m24\u001b[0m, \u001b[38;5;34m64\u001b[0m)          │             \u001b[38;5;34m256\u001b[0m │\n",
       "│ (\u001b[38;5;33mBatchNormalization\u001b[0m)                 │                             │                 │\n",
       "├──────────────────────────────────────┼─────────────────────────────┼─────────────────┤\n",
       "│ activation_1 (\u001b[38;5;33mActivation\u001b[0m)            │ (\u001b[38;5;45mNone\u001b[0m, \u001b[38;5;34m24\u001b[0m, \u001b[38;5;34m24\u001b[0m, \u001b[38;5;34m64\u001b[0m)          │               \u001b[38;5;34m0\u001b[0m │\n",
       "├──────────────────────────────────────┼─────────────────────────────┼─────────────────┤\n",
       "│ max_pooling2d_3 (\u001b[38;5;33mMaxPooling2D\u001b[0m)       │ (\u001b[38;5;45mNone\u001b[0m, \u001b[38;5;34m12\u001b[0m, \u001b[38;5;34m12\u001b[0m, \u001b[38;5;34m64\u001b[0m)          │               \u001b[38;5;34m0\u001b[0m │\n",
       "├──────────────────────────────────────┼─────────────────────────────┼─────────────────┤\n",
       "│ dropout_1 (\u001b[38;5;33mDropout\u001b[0m)                  │ (\u001b[38;5;45mNone\u001b[0m, \u001b[38;5;34m12\u001b[0m, \u001b[38;5;34m12\u001b[0m, \u001b[38;5;34m64\u001b[0m)          │               \u001b[38;5;34m0\u001b[0m │\n",
       "├──────────────────────────────────────┼─────────────────────────────┼─────────────────┤\n",
       "│ conv2d_4 (\u001b[38;5;33mConv2D\u001b[0m)                    │ (\u001b[38;5;45mNone\u001b[0m, \u001b[38;5;34m12\u001b[0m, \u001b[38;5;34m12\u001b[0m, \u001b[38;5;34m128\u001b[0m)         │          \u001b[38;5;34m73,856\u001b[0m │\n",
       "├──────────────────────────────────────┼─────────────────────────────┼─────────────────┤\n",
       "│ batch_normalization_2                │ (\u001b[38;5;45mNone\u001b[0m, \u001b[38;5;34m12\u001b[0m, \u001b[38;5;34m12\u001b[0m, \u001b[38;5;34m128\u001b[0m)         │             \u001b[38;5;34m512\u001b[0m │\n",
       "│ (\u001b[38;5;33mBatchNormalization\u001b[0m)                 │                             │                 │\n",
       "├──────────────────────────────────────┼─────────────────────────────┼─────────────────┤\n",
       "│ activation_2 (\u001b[38;5;33mActivation\u001b[0m)            │ (\u001b[38;5;45mNone\u001b[0m, \u001b[38;5;34m12\u001b[0m, \u001b[38;5;34m12\u001b[0m, \u001b[38;5;34m128\u001b[0m)         │               \u001b[38;5;34m0\u001b[0m │\n",
       "├──────────────────────────────────────┼─────────────────────────────┼─────────────────┤\n",
       "│ max_pooling2d_4 (\u001b[38;5;33mMaxPooling2D\u001b[0m)       │ (\u001b[38;5;45mNone\u001b[0m, \u001b[38;5;34m6\u001b[0m, \u001b[38;5;34m6\u001b[0m, \u001b[38;5;34m128\u001b[0m)           │               \u001b[38;5;34m0\u001b[0m │\n",
       "├──────────────────────────────────────┼─────────────────────────────┼─────────────────┤\n",
       "│ dropout_2 (\u001b[38;5;33mDropout\u001b[0m)                  │ (\u001b[38;5;45mNone\u001b[0m, \u001b[38;5;34m6\u001b[0m, \u001b[38;5;34m6\u001b[0m, \u001b[38;5;34m128\u001b[0m)           │               \u001b[38;5;34m0\u001b[0m │\n",
       "├──────────────────────────────────────┼─────────────────────────────┼─────────────────┤\n",
       "│ flatten_2 (\u001b[38;5;33mFlatten\u001b[0m)                  │ (\u001b[38;5;45mNone\u001b[0m, \u001b[38;5;34m4608\u001b[0m)                │               \u001b[38;5;34m0\u001b[0m │\n",
       "├──────────────────────────────────────┼─────────────────────────────┼─────────────────┤\n",
       "│ dense_4 (\u001b[38;5;33mDense\u001b[0m)                      │ (\u001b[38;5;45mNone\u001b[0m, \u001b[38;5;34m256\u001b[0m)                 │       \u001b[38;5;34m1,179,904\u001b[0m │\n",
       "├──────────────────────────────────────┼─────────────────────────────┼─────────────────┤\n",
       "│ batch_normalization_3                │ (\u001b[38;5;45mNone\u001b[0m, \u001b[38;5;34m256\u001b[0m)                 │           \u001b[38;5;34m1,024\u001b[0m │\n",
       "│ (\u001b[38;5;33mBatchNormalization\u001b[0m)                 │                             │                 │\n",
       "├──────────────────────────────────────┼─────────────────────────────┼─────────────────┤\n",
       "│ activation_3 (\u001b[38;5;33mActivation\u001b[0m)            │ (\u001b[38;5;45mNone\u001b[0m, \u001b[38;5;34m256\u001b[0m)                 │               \u001b[38;5;34m0\u001b[0m │\n",
       "├──────────────────────────────────────┼─────────────────────────────┼─────────────────┤\n",
       "│ dropout_3 (\u001b[38;5;33mDropout\u001b[0m)                  │ (\u001b[38;5;45mNone\u001b[0m, \u001b[38;5;34m256\u001b[0m)                 │               \u001b[38;5;34m0\u001b[0m │\n",
       "├──────────────────────────────────────┼─────────────────────────────┼─────────────────┤\n",
       "│ dense_5 (\u001b[38;5;33mDense\u001b[0m)                      │ (\u001b[38;5;45mNone\u001b[0m, \u001b[38;5;34m7\u001b[0m)                   │           \u001b[38;5;34m1,799\u001b[0m │\n",
       "└──────────────────────────────────────┴─────────────────────────────┴─────────────────┘\n"
      ]
     },
     "metadata": {},
     "output_type": "display_data"
    },
    {
     "data": {
      "text/html": [
       "<pre style=\"white-space:pre;overflow-x:auto;line-height:normal;font-family:Menlo,'DejaVu Sans Mono',consolas,'Courier New',monospace\"><span style=\"font-weight: bold\"> Total params: </span><span style=\"color: #00af00; text-decoration-color: #00af00\">1,309,063</span> (4.99 MB)\n",
       "</pre>\n"
      ],
      "text/plain": [
       "\u001b[1m Total params: \u001b[0m\u001b[38;5;34m1,309,063\u001b[0m (4.99 MB)\n"
      ]
     },
     "metadata": {},
     "output_type": "display_data"
    },
    {
     "data": {
      "text/html": [
       "<pre style=\"white-space:pre;overflow-x:auto;line-height:normal;font-family:Menlo,'DejaVu Sans Mono',consolas,'Courier New',monospace\"><span style=\"font-weight: bold\"> Trainable params: </span><span style=\"color: #00af00; text-decoration-color: #00af00\">1,308,103</span> (4.99 MB)\n",
       "</pre>\n"
      ],
      "text/plain": [
       "\u001b[1m Trainable params: \u001b[0m\u001b[38;5;34m1,308,103\u001b[0m (4.99 MB)\n"
      ]
     },
     "metadata": {},
     "output_type": "display_data"
    },
    {
     "data": {
      "text/html": [
       "<pre style=\"white-space:pre;overflow-x:auto;line-height:normal;font-family:Menlo,'DejaVu Sans Mono',consolas,'Courier New',monospace\"><span style=\"font-weight: bold\"> Non-trainable params: </span><span style=\"color: #00af00; text-decoration-color: #00af00\">960</span> (3.75 KB)\n",
       "</pre>\n"
      ],
      "text/plain": [
       "\u001b[1m Non-trainable params: \u001b[0m\u001b[38;5;34m960\u001b[0m (3.75 KB)\n"
      ]
     },
     "metadata": {},
     "output_type": "display_data"
    }
   ],
   "source": [
    "model = model_fer((48,48,1))\n",
    "model.summary()"
   ]
  },
  {
   "cell_type": "code",
   "execution_count": 47,
   "id": "d1cba1bf-c756-4fea-ac33-66f47c6d86cf",
   "metadata": {},
   "outputs": [],
   "source": [
    "# Define the cultural context layer\n",
    "def cultural_context_layer(input_shape):\n",
    "    def cultural_context(x):\n",
    "        # Add your cultural context adjustment code here\n",
    "        # For example, you can use an embedding layer to represent the cultural background\n",
    "        # and multiply it with the output of the previous layer\n",
    "        return x\n",
    "    return Input(shape=input_shape), cultural_context\n"
   ]
  },
  {
   "cell_type": "code",
   "execution_count": 48,
   "id": "590344ee-2130-4115-bc24-b3255508d208",
   "metadata": {},
   "outputs": [],
   "source": [
    "def create_model(input_shape, num_classes):\n",
    "    # Define the input layer\n",
    "    inputs = Input(shape=input_shape)\n",
    "    \n",
    "    # Add your CNN architecture layers here\n",
    "    # Example:\n",
    "    x = Conv2D(32, (3, 3), activation='relu')(inputs)\n",
    "    x = MaxPooling2D(pool_size=(2, 2))(x)\n",
    "    x = Flatten()(x)\n",
    "    x = Dense(128, activation='relu')(x)\n",
    "    outputs = Dense(num_classes, activation='softmax')(x)  # Output layer for classification\n",
    "     \n",
    "    # Create the model\n",
    "    model = Model(inputs=inputs, outputs=outputs)\n",
    "    \n",
    "    return model\n",
    "\n",
    "\n",
    "    "
   ]
  },
  {
   "cell_type": "code",
   "execution_count": 49,
   "id": "c3326106-e931-417a-81b4-589af91ef556",
   "metadata": {},
   "outputs": [],
   "source": [
    "# Define the input shape and number of classes\n",
    "input_shape = (48, 48, 3)\n",
    "num_classes = 7\n"
   ]
  },
  {
   "cell_type": "code",
   "execution_count": 50,
   "id": "363d32ca-72bf-48d5-9a6f-a34bccd507eb",
   "metadata": {},
   "outputs": [],
   "source": [
    "# Define the cultural context input\n",
    "cultural_context_input, cultural_context = cultural_context_layer(input_shape)\n"
   ]
  },
  {
   "cell_type": "code",
   "execution_count": 51,
   "id": "24f70718-6bb2-40f2-8bbb-92aeab952019",
   "metadata": {},
   "outputs": [],
   "source": [
    "# Create the CNN model\n",
    "inputs = Input(shape=input_shape)\n",
    "model = create_model(input_shape, num_classes)\n"
   ]
  },
  {
   "cell_type": "code",
   "execution_count": 52,
   "id": "368d5156-61d3-4999-8a20-47ef52778796",
   "metadata": {},
   "outputs": [],
   "source": [
    "# Add the cultural context layer to the model\n",
    "outputs = model(cultural_context_input)\n",
    "outputs = cultural_context(outputs)\n"
   ]
  },
  {
   "cell_type": "code",
   "execution_count": 53,
   "id": "d4ead552-20a7-4481-9936-9fa498b1cb92",
   "metadata": {},
   "outputs": [],
   "source": [
    "# Compile the model\n",
    "optimizer = Adam(learning_rate=0.0001)\n",
    "model.compile(loss='categorical_crossentropy', optimizer=optimizer, metrics=['accuracy'])\n"
   ]
  },
  {
   "cell_type": "code",
   "execution_count": 54,
   "id": "69f71673-2443-4a09-b8d6-35eca608671a",
   "metadata": {},
   "outputs": [],
   "source": [
    "def preprocess_image(image):\n",
    "    # Add your preprocessing steps here\n",
    "    # For example, resizing, normalization, etc.\n",
    "    return cv2.resize(image, (64, 64))  # Resize images to (64, 64)\n",
    "\n",
    "train_images = [preprocess_image(cv2.imread(image_path)) for image_path in train_images_paths]\n"
   ]
  },
  {
   "cell_type": "code",
   "execution_count": 55,
   "id": "d86c25c1-8996-4b76-aba3-817377f244aa",
   "metadata": {},
   "outputs": [],
   "source": [
    "input_shape = (48, 48, 1)\n",
    "\n"
   ]
  },
  {
   "cell_type": "code",
   "execution_count": 59,
   "id": "95c25591-aba8-48c5-a6b3-913335c71ef4",
   "metadata": {},
   "outputs": [],
   "source": [
    "gray_image = cv2.imread(r\"C:\\Users\\Anjali\\Desktop\\Emotion_detection\\images.jpg\", cv2.IMREAD_GRAYSCALE)\n",
    "rgb_image = cv2.cvtColor(gray_image, cv2.COLOR_GRAY2RGB)\n"
   ]
  },
  {
   "cell_type": "code",
   "execution_count": null,
   "id": "af8a54b2-0da4-41b9-94df-515069ea575a",
   "metadata": {},
   "outputs": [],
   "source": []
  },
  {
   "cell_type": "code",
   "execution_count": 64,
   "id": "48fccb61-c643-47ea-b562-f3252964367b",
   "metadata": {},
   "outputs": [
    {
     "name": "stdout",
     "output_type": "stream",
     "text": [
      "Epoch 1/20\n"
     ]
    },
    {
     "name": "stderr",
     "output_type": "stream",
     "text": [
      "C:\\Users\\Anjali\\AppData\\Roaming\\Python\\Python311\\site-packages\\keras\\src\\trainers\\data_adapters\\py_dataset_adapter.py:122: UserWarning: Your `PyDataset` class should call `super().__init__(**kwargs)` in its constructor. `**kwargs` can include `workers`, `use_multiprocessing`, `max_queue_size`. Do not pass these arguments to `fit()`, as they will be ignored.\n",
      "  self._warn_if_super_not_called()\n"
     ]
    },
    {
     "name": "stdout",
     "output_type": "stream",
     "text": [
      "\u001b[1m 449/1000\u001b[0m \u001b[32m━━━━━━━━\u001b[0m\u001b[37m━━━━━━━━━━━━\u001b[0m \u001b[1m1:28\u001b[0m 161ms/step - accuracy: 0.2727 - loss: 2.0608"
     ]
    },
    {
     "name": "stderr",
     "output_type": "stream",
     "text": [
      "C:\\Users\\Anjali\\anaconda3\\Anjali1\\Lib\\contextlib.py:158: UserWarning: Your input ran out of data; interrupting training. Make sure that your dataset or generator can generate at least `steps_per_epoch * epochs` batches. You may need to use the `.repeat()` function when building your dataset.\n",
      "  self.gen.throw(typ, value, traceback)\n"
     ]
    },
    {
     "name": "stdout",
     "output_type": "stream",
     "text": [
      "\n",
      "Epoch 1: saving model to model_weights1.weights.h5\n",
      "\u001b[1m1000/1000\u001b[0m \u001b[32m━━━━━━━━━━━━━━━━━━━━\u001b[0m\u001b[37m\u001b[0m \u001b[1m87s\u001b[0m 83ms/step - accuracy: 0.3029 - loss: 1.8803 - val_accuracy: 0.4146 - val_loss: 1.5142\n",
      "Epoch 2/20\n",
      "\u001b[1m 449/1000\u001b[0m \u001b[32m━━━━━━━━\u001b[0m\u001b[37m━━━━━━━━━━━━\u001b[0m \u001b[1m1:24\u001b[0m 153ms/step - accuracy: 0.4306 - loss: 1.4824\n",
      "Epoch 2: saving model to model_weights1.weights.h5\n",
      "\u001b[1m1000/1000\u001b[0m \u001b[32m━━━━━━━━━━━━━━━━━━━━\u001b[0m\u001b[37m\u001b[0m \u001b[1m74s\u001b[0m 73ms/step - accuracy: 0.4384 - loss: 1.4662 - val_accuracy: 0.4597 - val_loss: 1.4071\n",
      "Epoch 3/20\n",
      "\u001b[1m 449/1000\u001b[0m \u001b[32m━━━━━━━━\u001b[0m\u001b[37m━━━━━━━━━━━━\u001b[0m \u001b[1m1:22\u001b[0m 150ms/step - accuracy: 0.4900 - loss: 1.3464\n",
      "Epoch 3: saving model to model_weights1.weights.h5\n",
      "\u001b[1m1000/1000\u001b[0m \u001b[32m━━━━━━━━━━━━━━━━━━━━\u001b[0m\u001b[37m\u001b[0m \u001b[1m73s\u001b[0m 73ms/step - accuracy: 0.4917 - loss: 1.3388 - val_accuracy: 0.4880 - val_loss: 1.3284\n",
      "Epoch 4/20\n",
      "\u001b[1m 448/1000\u001b[0m \u001b[32m━━━━━━━━\u001b[0m\u001b[37m━━━━━━━━━━━━\u001b[0m \u001b[1m1:19\u001b[0m 144ms/step - accuracy: 0.5234 - loss: 1.2573\n",
      "Epoch 4: saving model to model_weights1.weights.h5\n",
      "\u001b[1m1000/1000\u001b[0m \u001b[32m━━━━━━━━━━━━━━━━━━━━\u001b[0m\u001b[37m\u001b[0m \u001b[1m69s\u001b[0m 69ms/step - accuracy: 0.5239 - loss: 1.2566 - val_accuracy: 0.5085 - val_loss: 1.2819\n",
      "Epoch 5/20\n",
      "\u001b[1m 449/1000\u001b[0m \u001b[32m━━━━━━━━\u001b[0m\u001b[37m━━━━━━━━━━━━\u001b[0m \u001b[1m1:22\u001b[0m 150ms/step - accuracy: 0.5494 - loss: 1.1943\n",
      "Epoch 5: saving model to model_weights1.weights.h5\n",
      "\u001b[1m1000/1000\u001b[0m \u001b[32m━━━━━━━━━━━━━━━━━━━━\u001b[0m\u001b[37m\u001b[0m \u001b[1m72s\u001b[0m 72ms/step - accuracy: 0.5492 - loss: 1.1907 - val_accuracy: 0.5086 - val_loss: 1.2809\n",
      "Epoch 6/20\n",
      "\u001b[1m 449/1000\u001b[0m \u001b[32m━━━━━━━━\u001b[0m\u001b[37m━━━━━━━━━━━━\u001b[0m \u001b[1m1:23\u001b[0m 151ms/step - accuracy: 0.5802 - loss: 1.1049\n",
      "Epoch 6: saving model to model_weights1.weights.h5\n",
      "\u001b[1m1000/1000\u001b[0m \u001b[32m━━━━━━━━━━━━━━━━━━━━\u001b[0m\u001b[37m\u001b[0m \u001b[1m73s\u001b[0m 73ms/step - accuracy: 0.5777 - loss: 1.1119 - val_accuracy: 0.5192 - val_loss: 1.2632\n",
      "Epoch 7/20\n",
      "\u001b[1m 449/1000\u001b[0m \u001b[32m━━━━━━━━\u001b[0m\u001b[37m━━━━━━━━━━━━\u001b[0m \u001b[1m2:35\u001b[0m 282ms/step - accuracy: 0.6127 - loss: 1.0326\n",
      "Epoch 7: saving model to model_weights1.weights.h5\n",
      "\u001b[1m1000/1000\u001b[0m \u001b[32m━━━━━━━━━━━━━━━━━━━━\u001b[0m\u001b[37m\u001b[0m \u001b[1m132s\u001b[0m 131ms/step - accuracy: 0.6083 - loss: 1.0434 - val_accuracy: 0.5251 - val_loss: 1.2636\n",
      "Epoch 8/20\n",
      "\u001b[1m 449/1000\u001b[0m \u001b[32m━━━━━━━━\u001b[0m\u001b[37m━━━━━━━━━━━━\u001b[0m \u001b[1m1:27\u001b[0m 158ms/step - accuracy: 0.6354 - loss: 0.9647\n",
      "Epoch 8: saving model to model_weights1.weights.h5\n",
      "\u001b[1m1000/1000\u001b[0m \u001b[32m━━━━━━━━━━━━━━━━━━━━\u001b[0m\u001b[37m\u001b[0m \u001b[1m76s\u001b[0m 76ms/step - accuracy: 0.6318 - loss: 0.9769 - val_accuracy: 0.5312 - val_loss: 1.2840\n",
      "Epoch 9/20\n",
      "\u001b[1m 449/1000\u001b[0m \u001b[32m━━━━━━━━\u001b[0m\u001b[37m━━━━━━━━━━━━\u001b[0m \u001b[1m1:28\u001b[0m 160ms/step - accuracy: 0.6702 - loss: 0.8855\n",
      "Epoch 9: saving model to model_weights1.weights.h5\n",
      "\u001b[1m1000/1000\u001b[0m \u001b[32m━━━━━━━━━━━━━━━━━━━━\u001b[0m\u001b[37m\u001b[0m \u001b[1m77s\u001b[0m 77ms/step - accuracy: 0.6646 - loss: 0.9003 - val_accuracy: 0.5330 - val_loss: 1.3107\n",
      "Epoch 10/20\n",
      "\u001b[1m 449/1000\u001b[0m \u001b[32m━━━━━━━━\u001b[0m\u001b[37m━━━━━━━━━━━━\u001b[0m \u001b[1m1:28\u001b[0m 161ms/step - accuracy: 0.7005 - loss: 0.8035\n",
      "Epoch 10: saving model to model_weights1.weights.h5\n",
      "\u001b[1m1000/1000\u001b[0m \u001b[32m━━━━━━━━━━━━━━━━━━━━\u001b[0m\u001b[37m\u001b[0m \u001b[1m77s\u001b[0m 77ms/step - accuracy: 0.6916 - loss: 0.8250 - val_accuracy: 0.5249 - val_loss: 1.3711\n",
      "Epoch 11/20\n",
      "\u001b[1m 449/1000\u001b[0m \u001b[32m━━━━━━━━\u001b[0m\u001b[37m━━━━━━━━━━━━\u001b[0m \u001b[1m1:28\u001b[0m 161ms/step - accuracy: 0.7293 - loss: 0.7357\n",
      "Epoch 11: saving model to model_weights1.weights.h5\n",
      "\u001b[1m1000/1000\u001b[0m \u001b[32m━━━━━━━━━━━━━━━━━━━━\u001b[0m\u001b[37m\u001b[0m \u001b[1m78s\u001b[0m 77ms/step - accuracy: 0.7212 - loss: 0.7534 - val_accuracy: 0.5217 - val_loss: 1.4507\n",
      "Epoch 12/20\n",
      "\u001b[1m 449/1000\u001b[0m \u001b[32m━━━━━━━━\u001b[0m\u001b[37m━━━━━━━━━━━━\u001b[0m \u001b[1m1:54\u001b[0m 207ms/step - accuracy: 0.7557 - loss: 0.6635\n",
      "Epoch 12: saving model to model_weights1.weights.h5\n",
      "\u001b[1m1000/1000\u001b[0m \u001b[32m━━━━━━━━━━━━━━━━━━━━\u001b[0m\u001b[37m\u001b[0m \u001b[1m103s\u001b[0m 99ms/step - accuracy: 0.7494 - loss: 0.6801 - val_accuracy: 0.5222 - val_loss: 1.5207\n",
      "Epoch 13/20\n",
      "\u001b[1m 449/1000\u001b[0m \u001b[32m━━━━━━━━\u001b[0m\u001b[37m━━━━━━━━━━━━\u001b[0m \u001b[1m1:29\u001b[0m 163ms/step - accuracy: 0.7789 - loss: 0.5995\n",
      "Epoch 13: saving model to model_weights1.weights.h5\n",
      "\u001b[1m1000/1000\u001b[0m \u001b[32m━━━━━━━━━━━━━━━━━━━━\u001b[0m\u001b[37m\u001b[0m \u001b[1m79s\u001b[0m 78ms/step - accuracy: 0.7725 - loss: 0.6157 - val_accuracy: 0.5248 - val_loss: 1.6446\n",
      "Epoch 14/20\n",
      "\u001b[1m 449/1000\u001b[0m \u001b[32m━━━━━━━━\u001b[0m\u001b[37m━━━━━━━━━━━━\u001b[0m \u001b[1m1:30\u001b[0m 165ms/step - accuracy: 0.8115 - loss: 0.5209\n",
      "Epoch 14: saving model to model_weights1.weights.h5\n",
      "\u001b[1m1000/1000\u001b[0m \u001b[32m━━━━━━━━━━━━━━━━━━━━\u001b[0m\u001b[37m\u001b[0m \u001b[1m83s\u001b[0m 79ms/step - accuracy: 0.8018 - loss: 0.5431 - val_accuracy: 0.5249 - val_loss: 1.7448\n",
      "Epoch 15/20\n",
      "\u001b[1m 449/1000\u001b[0m \u001b[32m━━━━━━━━\u001b[0m\u001b[37m━━━━━━━━━━━━\u001b[0m \u001b[1m1:30\u001b[0m 164ms/step - accuracy: 0.8320 - loss: 0.4673\n",
      "Epoch 15: saving model to model_weights1.weights.h5\n",
      "\u001b[1m1000/1000\u001b[0m \u001b[32m━━━━━━━━━━━━━━━━━━━━\u001b[0m\u001b[37m\u001b[0m \u001b[1m79s\u001b[0m 78ms/step - accuracy: 0.8225 - loss: 0.4865 - val_accuracy: 0.5252 - val_loss: 1.8671\n",
      "Epoch 16/20\n",
      "\u001b[1m 449/1000\u001b[0m \u001b[32m━━━━━━━━\u001b[0m\u001b[37m━━━━━━━━━━━━\u001b[0m \u001b[1m1:58\u001b[0m 215ms/step - accuracy: 0.8493 - loss: 0.4241\n",
      "Epoch 16: saving model to model_weights1.weights.h5\n",
      "\u001b[1m1000/1000\u001b[0m \u001b[32m━━━━━━━━━━━━━━━━━━━━\u001b[0m\u001b[37m\u001b[0m \u001b[1m99s\u001b[0m 99ms/step - accuracy: 0.8401 - loss: 0.4425 - val_accuracy: 0.5273 - val_loss: 1.9364\n",
      "Epoch 17/20\n",
      "\u001b[1m 449/1000\u001b[0m \u001b[32m━━━━━━━━\u001b[0m\u001b[37m━━━━━━━━━━━━\u001b[0m \u001b[1m1:25\u001b[0m 155ms/step - accuracy: 0.8636 - loss: 0.3779\n",
      "Epoch 17: saving model to model_weights1.weights.h5\n",
      "\u001b[1m1000/1000\u001b[0m \u001b[32m━━━━━━━━━━━━━━━━━━━━\u001b[0m\u001b[37m\u001b[0m \u001b[1m75s\u001b[0m 75ms/step - accuracy: 0.8533 - loss: 0.4047 - val_accuracy: 0.5259 - val_loss: 2.0601\n",
      "Epoch 18/20\n",
      "\u001b[1m 449/1000\u001b[0m \u001b[32m━━━━━━━━\u001b[0m\u001b[37m━━━━━━━━━━━━\u001b[0m \u001b[1m1:30\u001b[0m 164ms/step - accuracy: 0.8823 - loss: 0.3341\n",
      "Epoch 18: saving model to model_weights1.weights.h5\n",
      "\u001b[1m1000/1000\u001b[0m \u001b[32m━━━━━━━━━━━━━━━━━━━━\u001b[0m\u001b[37m\u001b[0m \u001b[1m79s\u001b[0m 79ms/step - accuracy: 0.8717 - loss: 0.3571 - val_accuracy: 0.5109 - val_loss: 2.2525\n",
      "Epoch 19/20\n",
      "\u001b[1m 449/1000\u001b[0m \u001b[32m━━━━━━━━\u001b[0m\u001b[37m━━━━━━━━━━━━\u001b[0m \u001b[1m1:30\u001b[0m 164ms/step - accuracy: 0.8881 - loss: 0.3140\n",
      "Epoch 19: saving model to model_weights1.weights.h5\n",
      "\u001b[1m1000/1000\u001b[0m \u001b[32m━━━━━━━━━━━━━━━━━━━━\u001b[0m\u001b[37m\u001b[0m \u001b[1m80s\u001b[0m 79ms/step - accuracy: 0.8804 - loss: 0.3319 - val_accuracy: 0.5240 - val_loss: 2.4097\n",
      "Epoch 20/20\n",
      "\u001b[1m 449/1000\u001b[0m \u001b[32m━━━━━━━━\u001b[0m\u001b[37m━━━━━━━━━━━━\u001b[0m \u001b[1m1:34\u001b[0m 171ms/step - accuracy: 0.8958 - loss: 0.2875\n",
      "Epoch 20: saving model to model_weights1.weights.h5\n",
      "\u001b[1m1000/1000\u001b[0m \u001b[32m━━━━━━━━━━━━━━━━━━━━\u001b[0m\u001b[37m\u001b[0m \u001b[1m82s\u001b[0m 82ms/step - accuracy: 0.8905 - loss: 0.2986 - val_accuracy: 0.5209 - val_loss: 2.5845\n"
     ]
    },
    {
     "data": {
      "text/plain": [
       "<keras.src.callbacks.history.History at 0x22276094210>"
      ]
     },
     "execution_count": 64,
     "metadata": {},
     "output_type": "execute_result"
    }
   ],
   "source": [
    "from keras.models import Sequential\n",
    "from keras.layers import Conv2D, MaxPooling2D, Flatten, Dense\n",
    "\n",
    "# Create the model\n",
    "model = Sequential()\n",
    "\n",
    "# Add the first convolutional layer\n",
    "model.add(Conv2D(1, (3, 3), activation='relu', input_shape=(48, 48, 1)))\n",
    "\n",
    "# Add the remaining layers\n",
    "model.add(Conv2D(32, (3, 3), activation='relu'))\n",
    "model.add(MaxPooling2D(pool_size=(2, 2)))\n",
    "model.add(Conv2D(64, (3, 3), activation='relu'))\n",
    "model.add(MaxPooling2D(pool_size=(2, 2)))\n",
    "model.add(Conv2D(64, (3, 3), activation='relu'))\n",
    "model.add(MaxPooling2D(pool_size=(2, 2)))\n",
    "model.add(Flatten())\n",
    "model.add(Dense(64, activation='relu'))\n",
    "model.add(Dense(7, activation='softmax'))\n",
    "\n",
    "# Compile the model\n",
    "model.compile(loss='categorical_crossentropy', optimizer='adam', metrics=['accuracy'])\n",
    "\n",
    "# Train the model\n",
    "model.fit(train_generator, steps_per_epoch=1000, epochs=20, validation_data=validation_generator, validation_steps=500, callbacks=callbacks)"
   ]
  },
  {
   "cell_type": "code",
   "execution_count": null,
   "id": "91b15398-17f2-4c0a-87a9-fd042e865386",
   "metadata": {},
   "outputs": [],
   "source": []
  },
  {
   "cell_type": "code",
   "execution_count": null,
   "id": "d74c3690-ceeb-490c-97d6-07887822ba28",
   "metadata": {},
   "outputs": [],
   "source": []
  },
  {
   "cell_type": "code",
   "execution_count": null,
   "id": "39e32ab9-966b-4c4a-b77b-0a6fed5c9391",
   "metadata": {},
   "outputs": [],
   "source": []
  },
  {
   "cell_type": "code",
   "execution_count": null,
   "id": "76676eb7-d2cd-444a-9c7d-12f0f48029ad",
   "metadata": {},
   "outputs": [],
   "source": []
  },
  {
   "cell_type": "code",
   "execution_count": 1,
   "id": "b8a4e1ab-dced-49a8-9ca1-4a1f0cc25d2a",
   "metadata": {},
   "outputs": [
    {
     "name": "stderr",
     "output_type": "stream",
     "text": [
      "C:\\Users\\Anjali\\AppData\\Roaming\\Python\\Python311\\site-packages\\keras\\src\\layers\\convolutional\\base_conv.py:99: UserWarning: Do not pass an `input_shape`/`input_dim` argument to a layer. When using Sequential models, prefer using an `Input(shape)` object as the first layer in the model instead.\n",
      "  super().__init__(\n"
     ]
    },
    {
     "name": "stdout",
     "output_type": "stream",
     "text": [
      "Epoch 1/10\n",
      "\u001b[1m4/4\u001b[0m \u001b[32m━━━━━━━━━━━━━━━━━━━━\u001b[0m\u001b[37m\u001b[0m \u001b[1m3s\u001b[0m 274ms/step - accuracy: 0.1386 - loss: 2.0065 - val_accuracy: 0.0000e+00 - val_loss: 2.0221\n",
      "Epoch 2/10\n",
      "\u001b[1m4/4\u001b[0m \u001b[32m━━━━━━━━━━━━━━━━━━━━\u001b[0m\u001b[37m\u001b[0m \u001b[1m1s\u001b[0m 170ms/step - accuracy: 0.1583 - loss: 1.9351 - val_accuracy: 0.0000e+00 - val_loss: 2.1018\n",
      "Epoch 3/10\n",
      "\u001b[1m4/4\u001b[0m \u001b[32m━━━━━━━━━━━━━━━━━━━━\u001b[0m\u001b[37m\u001b[0m \u001b[1m1s\u001b[0m 176ms/step - accuracy: 0.1979 - loss: 1.9551 - val_accuracy: 0.0000e+00 - val_loss: 2.0963\n",
      "Epoch 4/10\n",
      "\u001b[1m4/4\u001b[0m \u001b[32m━━━━━━━━━━━━━━━━━━━━\u001b[0m\u001b[37m\u001b[0m \u001b[1m1s\u001b[0m 167ms/step - accuracy: 0.1781 - loss: 1.9102 - val_accuracy: 0.0000e+00 - val_loss: 1.9826\n",
      "Epoch 5/10\n",
      "\u001b[1m4/4\u001b[0m \u001b[32m━━━━━━━━━━━━━━━━━━━━\u001b[0m\u001b[37m\u001b[0m \u001b[1m1s\u001b[0m 152ms/step - accuracy: 0.1781 - loss: 1.9343 - val_accuracy: 0.0000e+00 - val_loss: 1.9626\n",
      "Epoch 6/10\n",
      "\u001b[1m4/4\u001b[0m \u001b[32m━━━━━━━━━━━━━━━━━━━━\u001b[0m\u001b[37m\u001b[0m \u001b[1m1s\u001b[0m 165ms/step - accuracy: 0.2145 - loss: 1.9168 - val_accuracy: 0.0000e+00 - val_loss: 1.9695\n",
      "Epoch 7/10\n",
      "\u001b[1m4/4\u001b[0m \u001b[32m━━━━━━━━━━━━━━━━━━━━\u001b[0m\u001b[37m\u001b[0m \u001b[1m1s\u001b[0m 153ms/step - accuracy: 0.1864 - loss: 1.9039 - val_accuracy: 0.0000e+00 - val_loss: 2.0456\n",
      "Epoch 8/10\n",
      "\u001b[1m4/4\u001b[0m \u001b[32m━━━━━━━━━━━━━━━━━━━━\u001b[0m\u001b[37m\u001b[0m \u001b[1m1s\u001b[0m 173ms/step - accuracy: 0.2041 - loss: 1.9229 - val_accuracy: 0.0000e+00 - val_loss: 2.0425\n",
      "Epoch 9/10\n",
      "\u001b[1m4/4\u001b[0m \u001b[32m━━━━━━━━━━━━━━━━━━━━\u001b[0m\u001b[37m\u001b[0m \u001b[1m1s\u001b[0m 173ms/step - accuracy: 0.2031 - loss: 1.8847 - val_accuracy: 0.0000e+00 - val_loss: 1.9686\n",
      "Epoch 10/10\n",
      "\u001b[1m4/4\u001b[0m \u001b[32m━━━━━━━━━━━━━━━━━━━━\u001b[0m\u001b[37m\u001b[0m \u001b[1m1s\u001b[0m 165ms/step - accuracy: 0.2135 - loss: 1.9018 - val_accuracy: 0.0000e+00 - val_loss: 1.9490\n",
      "\u001b[1m1/1\u001b[0m \u001b[32m━━━━━━━━━━━━━━━━━━━━\u001b[0m\u001b[37m\u001b[0m \u001b[1m0s\u001b[0m 34ms/step - accuracy: 0.0500 - loss: 2.0808\n",
      "Test Loss: 2.080840826034546, Test Accuracy: 0.05000000074505806\n"
     ]
    }
   ],
   "source": [
    "import numpy as np\n",
    "import tensorflow as tf\n",
    "from tensorflow.keras import layers, models\n",
    "\n",
    "# Load your dataset here, ensuring it includes images of facial expressions and corresponding labels\n",
    "\n",
    "# Define your model architecture\n",
    "def create_model(input_shape, num_classes):\n",
    "    model = models.Sequential([\n",
    "        layers.Conv2D(32, (3, 3), activation='relu', input_shape=input_shape),\n",
    "        layers.MaxPooling2D((2, 2)),\n",
    "        layers.Conv2D(64, (3, 3), activation='relu'),\n",
    "        layers.MaxPooling2D((2, 2)),\n",
    "        layers.Conv2D(128, (3, 3), activation='relu'),\n",
    "        layers.MaxPooling2D((2, 2)),\n",
    "        layers.Flatten(),\n",
    "        layers.Dense(128, activation='relu'),\n",
    "        layers.Dense(num_classes, activation='softmax')\n",
    "    ])\n",
    "    return model\n",
    "\n",
    "# Define data preprocessing functions if needed\n",
    "def preprocess_data(images, labels):\n",
    "    # Apply preprocessing steps such as normalization, resizing, etc.\n",
    "    # Ensure images and labels are formatted appropriately for the model\n",
    "    return images, labels\n",
    "\n",
    "# Define model training function\n",
    "def train_model(model, train_images, train_labels, val_images, val_labels, batch_size=32, epochs=10):\n",
    "    model.compile(optimizer='adam',\n",
    "                  loss='sparse_categorical_crossentropy',\n",
    "                  metrics=['accuracy'])\n",
    "    \n",
    "    # Preprocess the data\n",
    "    train_images, train_labels = preprocess_data(train_images, train_labels)\n",
    "    val_images, val_labels = preprocess_data(val_images, val_labels)\n",
    "    \n",
    "    # Train the model\n",
    "    model.fit(train_images, train_labels, batch_size=batch_size, epochs=epochs, validation_data=(val_images, val_labels))\n",
    "\n",
    "# Define model evaluation function\n",
    "def evaluate_model(model, test_images, test_labels):\n",
    "    test_images, test_labels = preprocess_data(test_images, test_labels)\n",
    "    loss, accuracy = model.evaluate(test_images, test_labels)\n",
    "    print(f'Test Loss: {loss}, Test Accuracy: {accuracy}')\n",
    "\n",
    "# Define main function\n",
    "def main():\n",
    "    # Load your dataset (replace this with your dataset loading code)\n",
    "    train_images = np.random.rand(100, 64, 64, 3)  # Example random images for demonstration\n",
    "    train_labels = np.random.randint(0, 7, 100)     # Example random labels (7 classes for facial expressions)\n",
    "\n",
    "    val_images = np.random.rand(20, 64, 64, 3)      # Example random images for validation\n",
    "    val_labels = np.random.randint(0, 7, 20)        # Example random labels for validation\n",
    "\n",
    "    test_images = np.random.rand(20, 64, 64, 3)     # Example random images for testing\n",
    "    test_labels = np.random.randint(0, 7, 20)       # Example random labels for testing\n",
    "\n",
    "    # Define model parameters\n",
    "    input_shape = train_images[0].shape\n",
    "    num_classes = len(np.unique(train_labels))\n",
    "\n",
    "    # Create and compile the model\n",
    "    model = create_model(input_shape, num_classes)\n",
    "\n",
    "    # Train the model\n",
    "    train_model(model, train_images, train_labels, val_images, val_labels)\n",
    "\n",
    "    # Evaluate the model\n",
    "    evaluate_model(model, test_images, test_labels)\n",
    "\n",
    "if __name__ == \"__main__\":\n",
    "    main()\n"
   ]
  },
  {
   "cell_type": "code",
   "execution_count": null,
   "id": "f301877c-3909-4282-a1a2-558a175b42f7",
   "metadata": {},
   "outputs": [],
   "source": []
  },
  {
   "cell_type": "code",
   "execution_count": null,
   "id": "e57543b4-b014-41cc-9be0-cc28a99ddeae",
   "metadata": {},
   "outputs": [],
   "source": []
  },
  {
   "cell_type": "code",
   "execution_count": null,
   "id": "3f60cdf6-3e0f-4854-bd74-0cb95df5c8ac",
   "metadata": {},
   "outputs": [],
   "source": []
  }
 ],
 "metadata": {
  "kernelspec": {
   "display_name": "Python 3 (ipykernel)",
   "language": "python",
   "name": "python3"
  },
  "language_info": {
   "codemirror_mode": {
    "name": "ipython",
    "version": 3
   },
   "file_extension": ".py",
   "mimetype": "text/x-python",
   "name": "python",
   "nbconvert_exporter": "python",
   "pygments_lexer": "ipython3",
   "version": "3.11.7"
  }
 },
 "nbformat": 4,
 "nbformat_minor": 5
}
